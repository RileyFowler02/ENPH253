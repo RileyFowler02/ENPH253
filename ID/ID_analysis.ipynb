{
 "cells": [
  {
   "cell_type": "markdown",
   "metadata": {},
   "source": [
    "Libraries"
   ]
  },
  {
   "cell_type": "code",
   "execution_count": null,
   "metadata": {},
   "outputs": [],
   "source": [
    "import pandas as pd\n",
    "import numpy as np\n",
    "import matplotlib.pyplot as plt"
   ]
  },
  {
   "cell_type": "markdown",
   "metadata": {},
   "source": [
    "Data sets"
   ]
  },
  {
   "cell_type": "code",
   "execution_count": null,
   "metadata": {},
   "outputs": [],
   "source": [
    "df0 = pd.read_csv('data/zero_slits.csv', names=['Voltage_0', 'Angle_0'], header=None, index_col=False, on_bad_lines='skip')\n",
    "df1 = pd.read_csv('data/one_slit.csv', names=['Voltage_1', 'Angle_1'], header=None, index_col=False, on_bad_lines='skip')\n",
    "df2 = pd.read_csv('data/two_slits.csv', names=['Voltage_2', 'Angle_2'], header=None, index_col=False, on_bad_lines='skip')\n",
    "df4 = pd.read_csv('data/four_slits.csv', names=['Voltage_4', 'Angle_4'], header=None, index_col=False, on_bad_lines='skip')\n",
    "df6 = pd.read_csv('data/six_slits.csv', names=['Voltage_6', 'Angle_6'], header=None, index_col=False, on_bad_lines='skip')\n",
    "\n",
    "print(df0.head())\n",
    "print('-------------------')\n",
    "print(df1.head())\n",
    "print('-------------------')\n",
    "print(df2.head())\n",
    "print('-------------------')\n",
    "print(df4.head())\n",
    "print('-------------------')\n",
    "print(df6.head())"
   ]
  },
  {
   "cell_type": "markdown",
   "metadata": {},
   "source": [
    "Constants"
   ]
  },
  {
   "cell_type": "code",
   "execution_count": null,
   "metadata": {},
   "outputs": [],
   "source": [
    ",d = 3.38 # distance from the transmitter to the receiver\n",
    "D,C_PS_voltage = 2.5 # DC level of the variable power supply\n",
    "os,c_freq = 39.65 * 1000 # matching the receiver's resonance frequency\n",
    "con,v_factor = 0.0067 # Slope of the DC voltage as a function of the position\n",
    "slit_spacing = 29.9/1000 # distance between the slits\n",
    "slit_width = 0.926/100 # width between the slits\n",
    "ambient_temp = 25 # ambient temperature measured in the room\n",
    "\n",
    "# wavelength of sound\n",
    "v_air = 331.3 * np.sqrt(1 + ambient_temp/273.15)\n",
    "wavelength = v_air / osc_freq"
   ]
  },
  {
   "cell_type": "markdown",
   "metadata": {},
   "source": [
    "2. Converting potentiometer voltages to angles with $\\Theta=0$ corresponding to the location of the central peak, and plotting graphs of $A^2$ versus $\\Theta$ for each data set"
   ]
  },
  {
   "cell_type": "code",
   "execution_count": null,
   "metadata": {},
   "outputs": [],
   "source": []
  },
  {
   "cell_type": "markdown",
   "metadata": {},
   "source": [
    "3. Theoretical comparison\n",
    "(a) Finding $A_N$ for each $N$"
   ]
  },
  {
   "cell_type": "code",
   "execution_count": null,
   "metadata": {},
   "outputs": [],
   "source": [
    "max_height = np.array([1.49, 1.14, 5.99e-1, 3.53e-1, 2.09e-1])\n",
    "N = np.array([6.,4.,2.,1.,0.])\n",
    "A_N = []\n",
    "for i in range(len(N)):\n",
    "    if N[i] != 0:  # Avoid division by zero\n",
    "        A_N.append(max_height[i] / N[i])\n",
    "\n",
    "for i in range(len(A_N)):\n",
    "    print(f\"For N = {N[i]}, A_N = {A_N[i]:.4f}\")"
   ]
  },
  {
   "cell_type": "markdown",
   "metadata": {},
   "source": [
    "(b) Finding expected amplitude versus angle for each data set with plots"
   ]
  },
  {
   "cell_type": "code",
   "execution_count": null,
   "metadata": {},
   "outputs": [],
   "source": [
    "# finding phi at a given angle\n",
    "k = 2 * np.pi / wavelength\n",
    "def phi(angle):\n",
    "    return k * slit_width * np.sin(angle)\n",
    "\n",
    "# finding the expected amplitude versus angle for each data set\n",
    "def beta(angle):\n",
    "    return k * slit_spacing * np.sin(angle)\n",
    "\n",
    "\"\"\" # zero slits\n",
    "A_N_0 = A_N[4]\n",
    "N_0 = N[4]\n",
    "angle_0 = df0['Angle_0']\n",
    "\n",
    "expected_amplitude_0 = A_N_0 * np.sin(phi(angle_0)/2)**2 / (phi(angle_0)/2)**2 * np.sin(N_0 * beta(angle_0)/2)**2 / np.sin(beta(angle_0)/2)**2 \"\"\"\n",
    "\n",
    "# one slit\n",
    "A_N_1 = A_N[3]\n",
    "N_1 = N[3]\n",
    "angle_1 = df1['Angle_1']\n",
    "\n",
    "expected_amplitude_1 = A_N_1 * np.sin(phi(angle_1)/2)**2 / (phi(angle_1)/2)**2 * np.sin(N_1 * beta(angle_1)/2)**2 / np.sin(beta(angle_1)/2)**2\n",
    "\n",
    "# two slits\n",
    "A_N_2 = A_N[2]\n",
    "N_2 = N[2]\n",
    "angle_2 = df2['Angle_2']\n",
    "\n",
    "expected_amplitude_2 = A_N_2 * np.sin(phi(angle_2)/2)**2 / (phi(angle_2)/2)**2 * np.sin(N_2 * beta(angle_2)/2)**2 / np.sin(beta(angle_2)/2)**2\n",
    "\n",
    "# four slits\n",
    "A_N_4 = A_N[1]\n",
    "N_4 = N[1]\n",
    "angle_4 = df4['Angle_4']\n",
    "\n",
    "expected_amplitude_4 = A_N_4 * np.sin(phi(angle_4)/2)**2 / (phi(angle_4)/2)**2 * np.sin(N_4 * beta(angle_4)/2)**2 / np.sin(beta(angle_4)/2)**2\n",
    "\n",
    "# six slits\n",
    "A_N_6 = A_N[0]\n",
    "N_6 = N[0]\n",
    "angle_6 = df6['Angle_6']\n",
    "\n",
    "expected_amplitude_6 = A_N_6 * np.sin(phi(angle_6)/2)**2 / (phi(angle_6)/2)**2 * np.sin(N_6 * beta(angle_6)/2)**2 / np.sin(beta(angle_6)/2)**2\n",
    "\n",
    "## Write the outputs to files\n",
    "with open('output/expected_amplitude1.txt', 'w') as f:\n",
    "    print(expected_amplitude_1, file=f)\n",
    "\n",
    "with open('output/expected_amplitude2.txt', 'w') as f:\n",
    "    print(expected_amplitude_2, file=f)\n",
    "\n",
    "with open('output/expected_amplitude4.txt', 'w') as f:\n",
    "    print(expected_amplitude_4, file=f)\n",
    "\n",
    "with open('output/expected_amplitude6.txt', 'w') as f:\n",
    "    print(expected_amplitude_6, file=f)\n",
    "\n",
    "# Plot for zero slits\n",
    "# plt.plot(angle_0, expected_amplitude_0, label='Zero slits')\n",
    "\n",
    "# Plot for one slit\n",
    "plt.plot(angle_1, expected_amplitude_1, label='One slit')\n",
    "\n",
    "# Plot for two slits\n",
    "plt.plot(angle_2, expected_amplitude_2, label='Two slits')\n",
    "\n",
    "# Plot for four slits\n",
    "plt.plot(angle_4, expected_amplitude_4, label='Four slits')\n",
    "\n",
    "# Plot for six slits\n",
    "plt.plot(angle_6, expected_amplitude_6, label='Six slits')\n",
    "\n",
    "# Add a legend\n",
    "plt.legend()\n",
    "\n",
    "# Add x and y labels\n",
    "plt.xlabel('Angle')\n",
    "plt.ylabel('Expected Amplitude')\n",
    "\n",
    "# Show the plot\n",
    "plt.show()"
   ]
  }
 ],
 "metadata": {
  "kernelspec": {
   "display_name": "Python 3",
   "language": "python",
   "name": "python3"
  },
  "language_info": {
   "codemirror_mode": {
    "name": "ipython",
    "version": 3
   },
   "file_extension": ".py",
   "mimetype": "text/x-python",
   "name": "python",
   "nbconvert_exporter": "python",
   "pygments_lexer": "ipython3",
   "version": "3.12.1"
  }
 },
 "nbformat": 4,
 "nbformat_minor": 2
}
